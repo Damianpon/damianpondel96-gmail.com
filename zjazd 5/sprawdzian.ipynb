{
 "cells": [
  {
   "cell_type": "markdown",
   "metadata": {},
   "source": [
    "imię: Damian\n",
    "\n",
    "nazwisko: Pondel "
   ]
  },
  {
   "cell_type": "markdown",
   "metadata": {},
   "source": [
    "### zad 1. \n",
    "\n",
    "Wymień znane Ci struktury danych w Pythonie. Które z nich są mutowalne a które nie?"
   ]
  },
  {
   "cell_type": "markdown",
   "metadata": {},
   "source": [
    "Niemutowalne:\n",
    "bool,\n",
    "string,\n",
    "tuple,\n",
    "int,\n",
    "float.\n",
    "\n",
    "Mutowalne typy:\n",
    "list,\n",
    "dict."
   ]
  },
  {
   "cell_type": "markdown",
   "metadata": {},
   "source": [
    "### zad 2. \n",
    "\n",
    "Czy umiesz wytłumaczyć co to jest sekwencja? Jakie sekwencje znasz?"
   ]
  },
  {
   "cell_type": "markdown",
   "metadata": {},
   "source": [
    "Sekwencji to napis, tupla lub lista- są one zbiorami danych uporządkowanymi (tworzone w określonym porządku) i można je indeksować"
   ]
  },
  {
   "cell_type": "markdown",
   "metadata": {},
   "source": [
    "### zad 3.\n",
    "\n",
    "Wybierz co trzeci znak z napisu \"abrakadabra\". Przypisz go do zmiennej `tekst`"
   ]
  },
  {
   "cell_type": "code",
   "execution_count": 4,
   "metadata": {},
   "outputs": [
    {
     "name": "stdout",
     "output_type": "stream",
     "text": [
      "aadr\n"
     ]
    }
   ],
   "source": [
    "tekst = \"abrakadabra\"\n",
    "y = tekst[0::3]\n",
    "print(y)"
   ]
  },
  {
   "cell_type": "markdown",
   "metadata": {},
   "source": [
    "### zad 4.\n",
    "\n",
    "Zaprezentuj jak działa wyrażenie warunkowe. Postaraj się o przykład pokazujący wszystkie znane Ci aspekty wyrażenia warunkowego\n"
   ]
  },
  {
   "cell_type": "code",
   "execution_count": 2,
   "metadata": {},
   "outputs": [
    {
     "name": "stdout",
     "output_type": "stream",
     "text": [
      "Wprowadź liczbę całkowitą: 5\n",
      "Wprowadź liczbę całkowitą: 7\n",
      "Prawda, warunek 1 jest mniejszy od warunku 2.\n"
     ]
    }
   ],
   "source": [
    "condition1 = int(input(\"Wprowadź liczbę całkowitą: \"))\n",
    "condition2 = int(input(\"Wprowadź liczbę całkowitą: \"))\n",
    "\n",
    "\n",
    "if condition1 < condition2:\n",
    "    print(\"Prawda, warunek 1 jest mniejszy od warunku 2.\")\n",
    "\n",
    "elif condition1 == condition2:\n",
    "    print(\"Prawda, warunek 1 jest równy od warunkowi 2.\")\n",
    "\n",
    "else:\n",
    "    print(\"Nie jest to prawda, warunek 1 nie jest mniejszy od warunku 2.\")"
   ]
  },
  {
   "cell_type": "markdown",
   "metadata": {},
   "source": [
    "### zad 5.\n",
    "\n",
    "Zaproponuj przykład użycia pętli `while`. Np. do odliczania od 10 do 0 z pomienięciem 5."
   ]
  },
  {
   "cell_type": "code",
   "execution_count": 3,
   "metadata": {},
   "outputs": [
    {
     "name": "stdout",
     "output_type": "stream",
     "text": [
      "10\n",
      "9\n",
      "8\n",
      "7\n",
      "6\n",
      "4\n",
      "3\n",
      "2\n",
      "1\n",
      "0\n"
     ]
    }
   ],
   "source": [
    "x = 11\n",
    "\n",
    "while True:\n",
    "    x -= 1\n",
    "    if x == 5:\n",
    "        continue\n",
    "    elif x < 0:\n",
    "        break\n",
    "\n",
    "    print(x)"
   ]
  },
  {
   "cell_type": "markdown",
   "metadata": {},
   "source": [
    "### zad 6. \n",
    "\n",
    "Zaproponuj przykład użycia pętli `for`. W przykładzie użyj słownika i przeiteruj po elementach słownika (`items`)"
   ]
  },
  {
   "cell_type": "code",
   "execution_count": 5,
   "metadata": {},
   "outputs": [
    {
     "name": "stdout",
     "output_type": "stream",
     "text": [
      "game\n",
      "music\n"
     ]
    }
   ],
   "source": [
    "slownik = {\"game\": \"gra\", \"music\": \"muzyka\"}\n",
    "\n",
    "for sl in slownik:\n",
    "    print(sl)"
   ]
  },
  {
   "cell_type": "markdown",
   "metadata": {},
   "source": [
    "### zad 7.\n",
    "\n",
    "Zdefiniuj funkcję `power`, która przyjmie jeden lub dwa argumenty a i b. Argument b powinien przyjmować wartość domyślną tak, by poniższe wywałania miały sens:\n",
    "    \n",
    "    power(2, 3) == 8\n",
    "    power(4) == 16"
   ]
  },
  {
   "cell_type": "code",
   "execution_count": 6,
   "metadata": {},
   "outputs": [
    {
     "name": "stdout",
     "output_type": "stream",
     "text": [
      "16\n",
      "8\n"
     ]
    }
   ],
   "source": [
    "def power(a, b=2):\n",
    "\n",
    "    count1 = a ** b\n",
    "    return  count1\n",
    "\n",
    "\n",
    "print(power(4))\n",
    "print(power(2, 3))\n"
   ]
  },
  {
   "cell_type": "markdown",
   "metadata": {},
   "source": [
    "### zad 8. \n",
    "\n",
    "napisz funkcję, która przyjmie dowolną liczbę argumentów pozycyjnych i kluczowych i wypisze je na ekranie"
   ]
  },
  {
   "cell_type": "code",
   "execution_count": 7,
   "metadata": {},
   "outputs": [
    {
     "name": "stdout",
     "output_type": "stream",
     "text": [
      "Nasze funcje to pozycyjne: (10, 20), 2\n",
      "Nasze funcje to kluczowe: {'a': 1, 'b': 2, 'k': 3}, 3\n"
     ]
    }
   ],
   "source": [
    "def dowolna_funkcja(*args, **kwargs):\n",
    "\n",
    "    print(f'Nasze funcje to pozycyjne: {args}, {len(args)}')\n",
    "    print(f'Nasze funcje to kluczowe: {kwargs}, {len(kwargs)}')\n",
    "\n",
    "\n",
    "dowolna_funkcja(10, 20, a= 1, b= 2, k= 3)"
   ]
  },
  {
   "cell_type": "markdown",
   "metadata": {},
   "source": [
    "### zad 9.\n",
    "\n",
    "Zdefiniuj klasę `Osoba`, która będzie reprezentowała osobę. Osoba posiada atrybuty name, last_name, birth_year\n",
    "posiada też atrybut dynamiczny - age, który wylicza wiek na podstawie aktualnego roku i birth_year. Skorzystaj z 'datetime'. Dodatkowo klasa ta powinna mieć metodę info, która wypisz imie, nazwisko i wiek\n",
    "\n",
    "    osoba = Osoba(\"Johny\", \"Bravo\", 2000)\n",
    "    assert osoba.age == 20\n",
    "    assert osoba.info == \"Johny Bravo (20)\"\n"
   ]
  },
  {
   "cell_type": "code",
   "execution_count": null,
   "metadata": {},
   "outputs": [],
   "source": [
    "import datetime\n",
    "class Osoba:\n",
    "\n",
    "\n",
    "    def __init__(self, name, last_name, birth_year):\n",
    "        self.name = name\n",
    "        self.last_name = last_name\n",
    "        self.birth_year = birth_year\n",
    "        self.age = datetime.datetime.now().year - birth_year\n",
    "\n",
    "    @property\n",
    "    def info(self):\n",
    "        return f\" Imię: {self.name}, nazwisko: {self.last_name}, wiek: {self.age}\"\n",
    "\n",
    "osoba = Osoba(\"Johny\", \"Bravo\", 2000)\n",
    "print(osoba.info)"
   ]
  },
  {
   "cell_type": "markdown",
   "metadata": {},
   "source": [
    "### zad 10. \n",
    "\n",
    "Zdefiniuj klasę Student, która będzie dziedziczyć po klasie Osoba. Student w czasie tworzenia wymaga podania dodatkowego atrybutu - kierunek. W metodzie info należy rozszerzyć działanie metody info z klasy rodzica. Nie należy jednak całkowicie jej nadpisywać\n",
    "\n",
    "    student = Student(\"Johny\", \"Bravo\", 2000, \"physics\")\n",
    "    assert osoba.age == 20\n",
    "    assert osoba.info == \"Johny Bravo (20) - physics\""
   ]
  },
  {
   "cell_type": "code",
   "execution_count": null,
   "metadata": {},
   "outputs": [],
   "source": [
    "import datetime\n",
    "class Osoba:\n",
    "\n",
    "\n",
    "    def __init__(self, name, last_name, birth_year):\n",
    "        self.name = name\n",
    "        self.last_name = last_name\n",
    "        self.birth_year = birth_year\n",
    "        self.age = datetime.datetime.now().year - birth_year\n",
    "\n",
    "    @property\n",
    "    def info(self):\n",
    "        return f\" Imię: {self.name}, nazwisko: {self.last_name}, wiek: {self.age}\"\n",
    "\n",
    "osoba = Osoba(\"Johny\", \"Bravo\", 2000)\n",
    "print(osoba.info)"
   ]
  },
  {
   "cell_type": "code",
   "execution_count": null,
   "metadata": {},
   "outputs": [],
   "source": [
    "class Student(Osoba):\n",
    "\n",
    "    def __init__(self, kierunek):\n",
    "        super().__init__(\"Student\", kierunek)"
   ]
  }
 ],
 "metadata": {
  "kernelspec": {
   "display_name": "Python 3",
   "language": "python",
   "name": "python3"
  },
  "language_info": {
   "codemirror_mode": {
    "name": "ipython",
    "version": 3
   },
   "file_extension": ".py",
   "mimetype": "text/x-python",
   "name": "python",
   "nbconvert_exporter": "python",
   "pygments_lexer": "ipython3",
   "version": "3.8.2"
  }
 },
 "nbformat": 4,
 "nbformat_minor": 4
}
